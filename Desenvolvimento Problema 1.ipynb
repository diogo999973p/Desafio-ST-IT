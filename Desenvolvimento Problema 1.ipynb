{
 "cells": [
  {
   "cell_type": "markdown",
   "metadata": {},
   "source": [
    "# Inicialização e Carregamento"
   ]
  },
  {
   "cell_type": "code",
   "execution_count": 1,
   "metadata": {},
   "outputs": [],
   "source": [
    "import pandas as pd\n",
    "import matplotlib.pyplot as plt\n",
    "from itertools import cycle\n",
    "import fastparquet"
   ]
  },
  {
   "cell_type": "code",
   "execution_count": 2,
   "metadata": {},
   "outputs": [],
   "source": [
    "dados_cadastrais_df = pd.read_csv(\"dados_cadastrais_fake.csv\",sep=\";\")"
   ]
  },
  {
   "cell_type": "code",
   "execution_count": 3,
   "metadata": {},
   "outputs": [
    {
     "name": "stdout",
     "output_type": "stream",
     "text": [
      "<class 'pandas.core.frame.DataFrame'>\n",
      "RangeIndex: 10000 entries, 0 to 9999\n",
      "Data columns (total 6 columns):\n",
      " #   Column  Non-Null Count  Dtype \n",
      "---  ------  --------------  ----- \n",
      " 0   nomes   10000 non-null  object\n",
      " 1   idade   10000 non-null  int64 \n",
      " 2   cidade  10000 non-null  object\n",
      " 3   estado  10000 non-null  object\n",
      " 4   cpf     10000 non-null  object\n",
      " 5   cnpj    10000 non-null  object\n",
      "dtypes: int64(1), object(5)\n",
      "memory usage: 468.9+ KB\n"
     ]
    }
   ],
   "source": [
    "dados_cadastrais_df.info()"
   ]
  },
  {
   "cell_type": "code",
   "execution_count": 4,
   "metadata": {},
   "outputs": [
    {
     "data": {
      "text/plain": [
       "0          97566536800\n",
       "1       425.263.807-07\n",
       "2          34647754103\n",
       "3       252.531.560-03\n",
       "4          49668886542\n",
       "             ...      \n",
       "9995    744.822.622-34\n",
       "9996       10683395190\n",
       "9997    538.223.638-04\n",
       "9998       11632512408\n",
       "9999    192.134.492-08\n",
       "Name: cpf, Length: 10000, dtype: object"
      ]
     },
     "execution_count": 4,
     "metadata": {},
     "output_type": "execute_result"
    }
   ],
   "source": [
    "dados_cadastrais_df['cpf']"
   ]
  },
  {
   "cell_type": "code",
   "execution_count": 5,
   "metadata": {},
   "outputs": [
    {
     "data": {
      "text/plain": [
       "0           06589184909526\n",
       "1       25.673.336/2350-20\n",
       "2           26543101702989\n",
       "3       19.062.080/5100-98\n",
       "4           97794530015384\n",
       "               ...        \n",
       "9995    16.740.076/9329-75\n",
       "9996        32246978843482\n",
       "9997    86.601.303/7580-88\n",
       "9998        08651414023648\n",
       "9999    08.908.871/5161-91\n",
       "Name: cnpj, Length: 10000, dtype: object"
      ]
     },
     "execution_count": 5,
     "metadata": {},
     "output_type": "execute_result"
    }
   ],
   "source": [
    "dados_cadastrais_df['cnpj']"
   ]
  },
  {
   "cell_type": "code",
   "execution_count": 6,
   "metadata": {},
   "outputs": [
    {
     "data": {
      "text/plain": [
       "0           06589184909526\n",
       "1       25.673.336/2350-20\n",
       "2           26543101702989\n",
       "3       19.062.080/5100-98\n",
       "4           97794530015384\n",
       "               ...        \n",
       "9995    16.740.076/9329-75\n",
       "9996        32246978843482\n",
       "9997    86.601.303/7580-88\n",
       "9998        08651414023648\n",
       "9999    08.908.871/5161-91\n",
       "Name: cnpj, Length: 10000, dtype: object"
      ]
     },
     "execution_count": 6,
     "metadata": {},
     "output_type": "execute_result"
    }
   ],
   "source": [
    "dados_cadastrais_df['cnpj']"
   ]
  },
  {
   "cell_type": "markdown",
   "metadata": {},
   "source": [
    "## Função de Substituição de Caracteres em Data Frames por Espaço em Branco"
   ]
  },
  {
   "cell_type": "code",
   "execution_count": 7,
   "metadata": {},
   "outputs": [],
   "source": [
    "def substitui_caracteres(df, coluna, lista):\n",
    "    for item in lista:\n",
    "        df[coluna] = df[coluna].replace(to_replace=item, value='', regex=True)"
   ]
  },
  {
   "cell_type": "markdown",
   "metadata": {},
   "source": [
    "# Normalização"
   ]
  },
  {
   "cell_type": "markdown",
   "metadata": {},
   "source": [
    "## Normalização de nome: adequação de referências e siglas"
   ]
  },
  {
   "cell_type": "code",
   "execution_count": 8,
   "metadata": {},
   "outputs": [],
   "source": [
    "caracteres = ['Dr.', 'Mr.', 'Mrs.', 'DDS', 'MD', 'PhD', 'DVM', 'II', 'III', 'IV']"
   ]
  },
  {
   "cell_type": "code",
   "execution_count": 9,
   "metadata": {},
   "outputs": [],
   "source": [
    "coluna = 'nomes'"
   ]
  },
  {
   "cell_type": "code",
   "execution_count": 10,
   "metadata": {},
   "outputs": [],
   "source": [
    "substitui_caracteres(dados_cadastrais_df, coluna, caracteres)"
   ]
  },
  {
   "cell_type": "code",
   "execution_count": 11,
   "metadata": {},
   "outputs": [],
   "source": [
    "dados_cadastrais_df['nomes'] = dados_cadastrais_df['nomes'].replace(\"Jr.\", \"Junior\", regex=True)\\"
   ]
  },
  {
   "cell_type": "code",
   "execution_count": 12,
   "metadata": {},
   "outputs": [
    {
     "data": {
      "text/plain": [
       "0            Dennis Daniels\n",
       "1               Leah Becker\n",
       "2                Sally Ford\n",
       "3            Colleen Duncan\n",
       "4           Jeff Stephenson\n",
       "               ...         \n",
       "9995      Rebekah Mitchell \n",
       "9996    Lisa Parrish Junior\n",
       "9997         Michael Young \n",
       "9998          Kevin Watson \n",
       "9999         Joseph Wilson \n",
       "Name: nomes, Length: 10000, dtype: object"
      ]
     },
     "execution_count": 12,
     "metadata": {},
     "output_type": "execute_result"
    }
   ],
   "source": [
    "dados_cadastrais_df['nomes']"
   ]
  },
  {
   "cell_type": "markdown",
   "metadata": {},
   "source": [
    "## Normalização de nome: letras maiusculas e minusculas, e trim."
   ]
  },
  {
   "cell_type": "code",
   "execution_count": 13,
   "metadata": {},
   "outputs": [],
   "source": [
    "def normaliza_nome(nome):\n",
    "    nome_final = ''\n",
    "    \n",
    "    sep = ' '\n",
    "    \n",
    "    for item in nome.split(' '):\n",
    "        nome_final = nome_final + sep + item.capitalize()\n",
    "        \n",
    "    nome_final = nome_final.strip()\n",
    "    \n",
    "    return nome_final"
   ]
  },
  {
   "cell_type": "code",
   "execution_count": 14,
   "metadata": {},
   "outputs": [],
   "source": [
    "dados_cadastrais_df['nomes'] = dados_cadastrais_df['nomes'].map(lambda nome: normaliza_nome(nome))"
   ]
  },
  {
   "cell_type": "markdown",
   "metadata": {},
   "source": [
    "## Normalização de nomes de cidades: palavras que componhem a cidade começando com maiúsculo"
   ]
  },
  {
   "cell_type": "code",
   "execution_count": 15,
   "metadata": {},
   "outputs": [],
   "source": [
    "dados_cadastrais_df['cidade'] = dados_cadastrais_df['cidade'].map(lambda nome: normaliza_nome(nome))"
   ]
  },
  {
   "cell_type": "code",
   "execution_count": 16,
   "metadata": {},
   "outputs": [
    {
     "data": {
      "text/plain": [
       "0            Acrelândia\n",
       "1           Água Branca\n",
       "2              Alvarães\n",
       "3        Serra Do Navio\n",
       "4                Abaíra\n",
       "             ...       \n",
       "9995            Abaiara\n",
       "9996           Brasília\n",
       "9997     Afonso Cláudio\n",
       "9998    Abadia De Goiás\n",
       "9999         Açailândia\n",
       "Name: cidade, Length: 10000, dtype: object"
      ]
     },
     "execution_count": 16,
     "metadata": {},
     "output_type": "execute_result"
    }
   ],
   "source": [
    "dados_cadastrais_df['cidade']"
   ]
  },
  {
   "cell_type": "markdown",
   "metadata": {},
   "source": [
    "## Normalização de estados: apenas siglas"
   ]
  },
  {
   "cell_type": "code",
   "execution_count": 17,
   "metadata": {},
   "outputs": [],
   "source": [
    "dados_cadastrais_df['estado'] = dados_cadastrais_df['estado'].apply(lambda x: x.strip())"
   ]
  },
  {
   "cell_type": "code",
   "execution_count": 18,
   "metadata": {},
   "outputs": [],
   "source": [
    "dados_cadastrais_df['estado'] = dados_cadastrais_df['estado']\\\n",
    "                                        .replace('MINAS GERAI', 'MG')\\\n",
    "                                        .replace('MINAS GERAIs', 'MG')\\\n",
    "                                        .replace('distrito federal', 'DF')\\\n",
    "                                        .replace('rio de  janeiro', 'RJ')\\\n",
    "                                        .replace('são  paulo', 'SP', regex=True)\\\n",
    "                                        .replace('sao  paulo', 'SP', regex=True)"
   ]
  },
  {
   "cell_type": "markdown",
   "metadata": {},
   "source": [
    "## COLUNAS DE CPF E CNPJ SEM CARACTERES ESPECIAIS"
   ]
  },
  {
   "cell_type": "code",
   "execution_count": 19,
   "metadata": {},
   "outputs": [],
   "source": [
    "dados_cadastrais_df['cpf'] = dados_cadastrais_df['cpf'].replace('\\.', '', regex=True)\n",
    "dados_cadastrais_df['cpf'] = dados_cadastrais_df['cpf'].replace('-', '', regex=True)"
   ]
  },
  {
   "cell_type": "code",
   "execution_count": 20,
   "metadata": {},
   "outputs": [
    {
     "data": {
      "text/plain": [
       "'42526380707'"
      ]
     },
     "execution_count": 20,
     "metadata": {},
     "output_type": "execute_result"
    }
   ],
   "source": [
    "dados_cadastrais_df['cpf'][1]"
   ]
  },
  {
   "cell_type": "code",
   "execution_count": 21,
   "metadata": {},
   "outputs": [],
   "source": [
    "dados_cadastrais_df['cnpj'] = dados_cadastrais_df['cnpj'].replace('\\.', '', regex=True)\n",
    "dados_cadastrais_df['cnpj'] = dados_cadastrais_df['cnpj'].replace('-', '', regex=True)\n",
    "dados_cadastrais_df['cnpj'] = dados_cadastrais_df['cnpj'].replace('/', '', regex=True)"
   ]
  },
  {
   "cell_type": "code",
   "execution_count": 22,
   "metadata": {},
   "outputs": [
    {
     "data": {
      "text/plain": [
       "'26543101702989'"
      ]
     },
     "execution_count": 22,
     "metadata": {},
     "output_type": "execute_result"
    }
   ],
   "source": [
    "dados_cadastrais_df['cnpj'][2]"
   ]
  },
  {
   "cell_type": "markdown",
   "metadata": {},
   "source": [
    "## FUNÇÕES DE VALIDAÇÃO DE CPF E CNPJ"
   ]
  },
  {
   "cell_type": "code",
   "execution_count": 23,
   "metadata": {},
   "outputs": [],
   "source": [
    "def cpf_valido(cpf):\n",
    "    tamanho_cpf = 11\n",
    "    if len(cpf) != tamanho_cpf:\n",
    "        return False\n",
    "\n",
    "    if cpf in (c * tamanho_cpf for c in \"1234567890\"):\n",
    "        return False\n",
    "\n",
    "    cpf_reverso = cpf[::-1]\n",
    "    for i in range(2, 0, -1):\n",
    "        cpf_enumerado = enumerate(cpf_reverso[i:], start=2)\n",
    "        dv_calculado = sum(map(lambda x: int(x[1]) * x[0], cpf_enumerado)) * 10 % 11\n",
    "        if cpf_reverso[i - 1:i] != str(dv_calculado % 10):\n",
    "            return False\n",
    "\n",
    "    return True"
   ]
  },
  {
   "cell_type": "code",
   "execution_count": 24,
   "metadata": {},
   "outputs": [],
   "source": [
    "def cnpj_valido(cnpj):\n",
    "    tamanho_cnpj = 14\n",
    "    if len(cnpj) != tamanho_cnpj:\n",
    "        return False\n",
    "\n",
    "    if cnpj in (c * tamanho_cnpj for c in \"1234567890\"):\n",
    "        return False\n",
    "\n",
    "    cnpj_r = cnpj[::-1]\n",
    "    for i in range(2, 0, -1):\n",
    "        cnpj_enum = zip(cycle(range(2, 10)), cnpj_r[i:])\n",
    "        dv = sum(map(lambda x: int(x[1]) * x[0], cnpj_enum)) * 10 % 11\n",
    "        if cnpj_r[i - 1:i] != str(dv % 10):\n",
    "            return False\n",
    "\n",
    "    return True"
   ]
  },
  {
   "cell_type": "markdown",
   "metadata": {},
   "source": [
    "## CRIAÇÃO DE COLUNAS DE CPF_VALIDO E CNPJ_VALIDO "
   ]
  },
  {
   "cell_type": "code",
   "execution_count": 25,
   "metadata": {},
   "outputs": [],
   "source": [
    "dados_cadastrais_df['cpf_valido'] = dados_cadastrais_df['cpf'].apply(cpf_valido)"
   ]
  },
  {
   "cell_type": "code",
   "execution_count": 26,
   "metadata": {},
   "outputs": [],
   "source": [
    "dados_cadastrais_df['cnpj_valido'] = dados_cadastrais_df['cnpj'].apply(cnpj_valido)"
   ]
  },
  {
   "cell_type": "markdown",
   "metadata": {},
   "source": [
    "## Pergunta 1: Quantos clientes temos nessa base?"
   ]
  },
  {
   "cell_type": "code",
   "execution_count": 27,
   "metadata": {},
   "outputs": [
    {
     "data": {
      "text/plain": [
       "nomes          10000\n",
       "idade          10000\n",
       "cidade         10000\n",
       "estado         10000\n",
       "cpf            10000\n",
       "cnpj           10000\n",
       "cpf_valido     10000\n",
       "cnpj_valido    10000\n",
       "dtype: int64"
      ]
     },
     "execution_count": 27,
     "metadata": {},
     "output_type": "execute_result"
    }
   ],
   "source": [
    "dados_cadastrais_df.count()"
   ]
  },
  {
   "cell_type": "markdown",
   "metadata": {},
   "source": [
    "## Pergunta 2: Qual a média de idade dos clientes?"
   ]
  },
  {
   "cell_type": "code",
   "execution_count": 28,
   "metadata": {},
   "outputs": [],
   "source": [
    "media = dados_cadastrais_df['idade'].mean()"
   ]
  },
  {
   "cell_type": "code",
   "execution_count": 29,
   "metadata": {},
   "outputs": [
    {
     "name": "stdout",
     "output_type": "stream",
     "text": [
      "A média de idade é de 53.7831 anos\n"
     ]
    }
   ],
   "source": [
    "print(f\"A média de idade é de {media} anos\")"
   ]
  },
  {
   "cell_type": "markdown",
   "metadata": {},
   "source": [
    "## Pergunta 3: Quantos clientes nessa base pertencem a cada estado?"
   ]
  },
  {
   "cell_type": "code",
   "execution_count": 30,
   "metadata": {},
   "outputs": [],
   "source": [
    "estados_contagem_df = dados_cadastrais_df.groupby(['estado'])['estado'].count()"
   ]
  },
  {
   "cell_type": "code",
   "execution_count": 31,
   "metadata": {},
   "outputs": [
    {
     "data": {
      "text/plain": [
       "estado\n",
       "AC    371\n",
       "AL    371\n",
       "AM    371\n",
       "AP    371\n",
       "BA    371\n",
       "CE    371\n",
       "DF    371\n",
       "ES    371\n",
       "GO    371\n",
       "MA    371\n",
       "MG    370\n",
       "MS    370\n",
       "MT    370\n",
       "PA    370\n",
       "PB    370\n",
       "PE    370\n",
       "PI    370\n",
       "PR    370\n",
       "RJ    370\n",
       "RN    370\n",
       "RO    370\n",
       "RR    370\n",
       "RS    370\n",
       "SC    370\n",
       "SE    370\n",
       "SP    370\n",
       "TO    370\n",
       "Name: estado, dtype: int64"
      ]
     },
     "execution_count": 31,
     "metadata": {},
     "output_type": "execute_result"
    }
   ],
   "source": [
    "estados_contagem_df"
   ]
  },
  {
   "cell_type": "code",
   "execution_count": 32,
   "metadata": {},
   "outputs": [
    {
     "data": {
      "image/png": "[encoded data removed]",
      "text/plain": [
       "<Figure size 576x288 with 1 Axes>"
      ]
     },
     "metadata": {},
     "output_type": "display_data"
    }
   ],
   "source": [
    "estados_contagem_df.plot.pie(subplots=True, figsize=(8, 4));"
   ]
  },
  {
   "cell_type": "markdown",
   "metadata": {},
   "source": [
    "## Pergunta 4: Quantos CPFs válidos e inválidos foram encontrados?"
   ]
  },
  {
   "cell_type": "code",
   "execution_count": 33,
   "metadata": {},
   "outputs": [],
   "source": [
    "cpfs_validos = dados_cadastrais_df['cpf_valido']"
   ]
  },
  {
   "cell_type": "code",
   "execution_count": 34,
   "metadata": {},
   "outputs": [
    {
     "data": {
      "text/plain": [
       "0       True\n",
       "1       True\n",
       "2       True\n",
       "3       True\n",
       "4       True\n",
       "        ... \n",
       "9995    True\n",
       "9996    True\n",
       "9997    True\n",
       "9998    True\n",
       "9999    True\n",
       "Name: cpf_valido, Length: 10000, dtype: bool"
      ]
     },
     "execution_count": 34,
     "metadata": {},
     "output_type": "execute_result"
    }
   ],
   "source": [
    "cpfs_validos"
   ]
  },
  {
   "cell_type": "code",
   "execution_count": 35,
   "metadata": {},
   "outputs": [],
   "source": [
    "num_cpfs_validos = cpfs_validos.where(cpfs_validos == True).count()"
   ]
  },
  {
   "cell_type": "code",
   "execution_count": 36,
   "metadata": {},
   "outputs": [
    {
     "name": "stdout",
     "output_type": "stream",
     "text": [
      "Numeros de cpfs validos é 10000\n"
     ]
    }
   ],
   "source": [
    "print(f\"Numeros de cpfs validos é {num_cpfs_validos}\")"
   ]
  },
  {
   "cell_type": "markdown",
   "metadata": {},
   "source": [
    "## Pergunta 5: Quantos CPFs válidos e inválidos foram encontrados?"
   ]
  },
  {
   "cell_type": "code",
   "execution_count": 37,
   "metadata": {},
   "outputs": [],
   "source": [
    "cnpjs_validos = dados_cadastrais_df['cnpj_valido']"
   ]
  },
  {
   "cell_type": "code",
   "execution_count": 38,
   "metadata": {},
   "outputs": [],
   "source": [
    "num_cnpj_validos = cnpjs_validos.where(cnpjs_validos == True).count()"
   ]
  },
  {
   "cell_type": "code",
   "execution_count": 39,
   "metadata": {},
   "outputs": [
    {
     "name": "stdout",
     "output_type": "stream",
     "text": [
      "Numeros de cnpj validos é 10000\n"
     ]
    }
   ],
   "source": [
    "print(f\"Numeros de cnpj validos é {num_cnpj_validos}\")"
   ]
  },
  {
   "cell_type": "markdown",
   "metadata": {},
   "source": [
    "## Carregamento em CSV"
   ]
  },
  {
   "cell_type": "code",
   "execution_count": 40,
   "metadata": {},
   "outputs": [],
   "source": [
    "dados_cadastrais_df.to_csv('problema1_normalizado.csv', sep=';', index=False)"
   ]
  },
  {
   "cell_type": "code",
   "execution_count": 41,
   "metadata": {},
   "outputs": [],
   "source": [
    "dados_cadastrais_df.to_parquet('problema1_normalizado.parquet', engine='fastparquet', index=False)"
   ]
  }
 ],
 "metadata": {
  "kernelspec": {
   "display_name": "Python 3",
   "language": "python",
   "name": "python3"
  },
  "language_info": {
   "codemirror_mode": {
    "name": "ipython",
    "version": 3
   },
   "file_extension": ".py",
   "mimetype": "text/x-python",
   "name": "python",
   "nbconvert_exporter": "python",
   "pygments_lexer": "ipython3",
   "version": "3.7.6"
  }
 },
 "nbformat": 4,
 "nbformat_minor": 4
}
