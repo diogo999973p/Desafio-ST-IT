{
 "cells": [
  {
   "cell_type": "markdown",
   "metadata": {},
   "source": [
    "# Inicialização e Carregamento"
   ]
  },
  {
   "cell_type": "code",
   "execution_count": 3,
   "metadata": {},
   "outputs": [],
   "source": [
    "import pandas as pd\n",
    "import matplotlib.pyplot as plt\n",
    "from itertools import cycle\n",
    "import fastparquet"
   ]
  },
  {
   "cell_type": "code",
   "execution_count": 4,
   "metadata": {},
   "outputs": [],
   "source": [
    "pessoas_df = pd.read_csv(\"people-v2_1E6.csv\",sep=\";\")"
   ]
  },
  {
   "cell_type": "code",
   "execution_count": 5,
   "metadata": {},
   "outputs": [
    {
     "name": "stdout",
     "output_type": "stream",
     "text": [
      "<class 'pandas.core.frame.DataFrame'>\n",
      "RangeIndex: 1000000 entries, 0 to 999999\n",
      "Data columns (total 10 columns):\n",
      " #   Column       Non-Null Count    Dtype  \n",
      "---  ------       --------------    -----  \n",
      " 0   document     1000000 non-null  object \n",
      " 1   name         1000000 non-null  object \n",
      " 2   job          900085 non-null   object \n",
      " 3   jobArea      1000000 non-null  object \n",
      " 4   jobType      899811 non-null   object \n",
      " 5   phoneNumber  1000000 non-null  object \n",
      " 6   birthDate    1000000 non-null  object \n",
      " 7   city         799999 non-null   object \n",
      " 8   state        1000000 non-null  object \n",
      " 9   totalSpent   990225 non-null   float64\n",
      "dtypes: float64(1), object(9)\n",
      "memory usage: 76.3+ MB\n"
     ]
    }
   ],
   "source": [
    "pessoas_df.info()"
   ]
  },
  {
   "cell_type": "markdown",
   "metadata": {},
   "source": [
    "## Data Quality"
   ]
  },
  {
   "cell_type": "markdown",
   "metadata": {},
   "source": [
    "### Homogenizar e Higienizar coluna document"
   ]
  },
  {
   "cell_type": "code",
   "execution_count": 13,
   "metadata": {},
   "outputs": [],
   "source": [
    "pessoas_df['document'] = pessoas_df['document'].replace('\\.', '', regex=True)\n",
    "pessoas_df['document'] = pessoas_df['document'].replace('-', '', regex=True)\n",
    "pessoas_df['document'] = pessoas_df['document'].replace('/', '', regex=True)"
   ]
  },
  {
   "cell_type": "markdown",
   "metadata": {},
   "source": [
    "### Detectar através da coluna `document` se o registro é de uma Pessoa Física ou Pessoa Jurídica, adicionando uma coluna com essa informação"
   ]
  },
  {
   "cell_type": "code",
   "execution_count": 18,
   "metadata": {},
   "outputs": [],
   "source": [
    "def calculate_person_type(string):\n",
    "    if len(string) == 11:\n",
    "        return \"PF\"\n",
    "    \n",
    "    return \"PJ\""
   ]
  },
  {
   "cell_type": "code",
   "execution_count": 19,
   "metadata": {},
   "outputs": [],
   "source": [
    "pessoas_df['person_type'] = pessoas_df['document'].apply(calculate_person_type)"
   ]
  },
  {
   "cell_type": "markdown",
   "metadata": {},
   "source": [
    "### Higienizar e homogenizar o formato da coluna `birthDate`: (para YYYY-MM-DD)"
   ]
  },
  {
   "cell_type": "code",
   "execution_count": 32,
   "metadata": {},
   "outputs": [],
   "source": [
    "def substitui_caracteres(df, coluna, map_dict):\n",
    "    for item in map_dict:\n",
    "        df[coluna] = df[coluna].replace(to_replace=item, value=map_dict[item], regex=True)"
   ]
  },
  {
   "cell_type": "code",
   "execution_count": 33,
   "metadata": {},
   "outputs": [],
   "source": [
    "mapeamento_meses = {'Jan': '01', 'Feb': '02', 'Mar': '03', 'Apr': '04', 'May': '05', 'Jun': '06',\n",
    "                    'Jul': '07', 'Ago': '08', 'Sep': '09', 'Oct': '10', 'Nov': '11', 'Dec': '12'}"
   ]
  },
  {
   "cell_type": "code",
   "execution_count": 34,
   "metadata": {},
   "outputs": [],
   "source": [
    "substitui_caracteres(pessoas_df, 'birthDate', mapeamento_meses)"
   ]
  },
  {
   "cell_type": "code",
   "execution_count": 36,
   "metadata": {},
   "outputs": [],
   "source": [
    "mapeamento_dias = {'Mon, ': '', 'Tue, ': '', 'Wed, ': '', 'Thu, ': '', 'Fri, ': '', 'Sat, ': '', 'Sun, ': ''}"
   ]
  },
  {
   "cell_type": "code",
   "execution_count": 37,
   "metadata": {},
   "outputs": [],
   "source": [
    "substitui_caracteres(pessoas_df, 'birthDate', mapeamento_dias)"
   ]
  },
  {
   "cell_type": "code",
   "execution_count": 38,
   "metadata": {},
   "outputs": [
    {
     "data": {
      "text/plain": [
       "0         20-05-1972\n",
       "1         10-06-1982\n",
       "2         05/16/1968\n",
       "3          19810417,\n",
       "4         04/07/1980\n",
       "             ...    \n",
       "999995    16-04-1976\n",
       "999996    05.22.1981\n",
       "999997    23-01-1988\n",
       "999998    04.11.1968\n",
       "999999    11/27/1988\n",
       "Name: birthDate, Length: 1000000, dtype: object"
      ]
     },
     "execution_count": 38,
     "metadata": {},
     "output_type": "execute_result"
    }
   ],
   "source": [
    "pessoas_df['birthDate']"
   ]
  },
  {
   "cell_type": "code",
   "execution_count": 39,
   "metadata": {},
   "outputs": [],
   "source": [
    "pessoas_df['birthDate'] = pd.to_datetime(pessoas_df['birthDate'])"
   ]
  },
  {
   "cell_type": "code",
   "execution_count": 41,
   "metadata": {},
   "outputs": [
    {
     "data": {
      "text/plain": [
       "0        1972-05-20\n",
       "1        1982-10-06\n",
       "2        1968-05-16\n",
       "3        1981-04-17\n",
       "4        1980-04-07\n",
       "            ...    \n",
       "999995   1976-04-16\n",
       "999996   1981-05-22\n",
       "999997   1988-01-23\n",
       "999998   1968-04-11\n",
       "999999   1988-11-27\n",
       "Name: birthDate, Length: 1000000, dtype: datetime64[ns]"
      ]
     },
     "execution_count": 41,
     "metadata": {},
     "output_type": "execute_result"
    }
   ],
   "source": [
    "pessoas_df['birthDate']"
   ]
  },
  {
   "cell_type": "markdown",
   "metadata": {},
   "source": [
    "### Existem duas colunas nesse dataset que alguns registros estão trocadas. Quais são essas colunas? "
   ]
  },
  {
   "cell_type": "markdown",
   "metadata": {},
   "source": [
    "## Agregação dos dados"
   ]
  },
  {
   "cell_type": "markdown",
   "metadata": {},
   "source": [
    "### Quais são as 5 PF que mais gastaram (`totalSpent`)? "
   ]
  },
  {
   "cell_type": "code",
   "execution_count": 65,
   "metadata": {},
   "outputs": [],
   "source": [
    "pessoas_fisicas_df = pessoas_df.where(pessoas_df['person_type'] == 'PF')"
   ]
  },
  {
   "cell_type": "code",
   "execution_count": 74,
   "metadata": {},
   "outputs": [],
   "source": [
    "spent_ordenado_df = pessoas_fisicas_df.sort_values(by='totalSpent', ascending=False)"
   ]
  },
  {
   "cell_type": "code",
   "execution_count": 76,
   "metadata": {},
   "outputs": [
    {
     "data": {
      "text/html": [
       "<div>\n",
       "<style scoped>\n",
       "    .dataframe tbody tr th:only-of-type {\n",
       "        vertical-align: middle;\n",
       "    }\n",
       "\n",
       "    .dataframe tbody tr th {\n",
       "        vertical-align: top;\n",
       "    }\n",
       "\n",
       "    .dataframe thead th {\n",
       "        text-align: right;\n",
       "    }\n",
       "</style>\n",
       "<table border=\"1\" class=\"dataframe\">\n",
       "  <thead>\n",
       "    <tr style=\"text-align: right;\">\n",
       "      <th></th>\n",
       "      <th>document</th>\n",
       "      <th>name</th>\n",
       "      <th>job</th>\n",
       "      <th>jobArea</th>\n",
       "      <th>jobType</th>\n",
       "      <th>phoneNumber</th>\n",
       "      <th>birthDate</th>\n",
       "      <th>city</th>\n",
       "      <th>state</th>\n",
       "      <th>totalSpent</th>\n",
       "      <th>person_type</th>\n",
       "    </tr>\n",
       "  </thead>\n",
       "  <tbody>\n",
       "    <tr>\n",
       "      <th>968481</th>\n",
       "      <td>82190864755</td>\n",
       "      <td>Euvanderson Costa</td>\n",
       "      <td>Supervisor Branding Sênior</td>\n",
       "      <td>Branding</td>\n",
       "      <td>Desenvolvedor</td>\n",
       "      <td>(34) 63123-5050</td>\n",
       "      <td>1965-10-25</td>\n",
       "      <td>Grande Kacia</td>\n",
       "      <td>Pernambuco</td>\n",
       "      <td>1000.00</td>\n",
       "      <td>PF</td>\n",
       "    </tr>\n",
       "    <tr>\n",
       "      <th>464764</th>\n",
       "      <td>18741688813</td>\n",
       "      <td>Sra. Rocio Martins</td>\n",
       "      <td>Especialista Mobilidade Sênior</td>\n",
       "      <td>Configuração</td>\n",
       "      <td>Supervisor</td>\n",
       "      <td>(45) 9143-5347</td>\n",
       "      <td>1985-06-06</td>\n",
       "      <td>Vania do Descoberto</td>\n",
       "      <td>PA</td>\n",
       "      <td>1000.00</td>\n",
       "      <td>PF</td>\n",
       "    </tr>\n",
       "    <tr>\n",
       "      <th>280776</th>\n",
       "      <td>61454551445</td>\n",
       "      <td>Wandir Martins</td>\n",
       "      <td>NaN</td>\n",
       "      <td>Otimização</td>\n",
       "      <td>Orquestrador</td>\n",
       "      <td>+55 (74) 2431-7486</td>\n",
       "      <td>1988-11-09</td>\n",
       "      <td>Martins de Nossa Senhora</td>\n",
       "      <td>AL</td>\n",
       "      <td>999.99</td>\n",
       "      <td>PF</td>\n",
       "    </tr>\n",
       "    <tr>\n",
       "      <th>4807</th>\n",
       "      <td>58953147670</td>\n",
       "      <td>Valeria Souza</td>\n",
       "      <td>Gerente Paradigma Chefe</td>\n",
       "      <td>Contas</td>\n",
       "      <td>Planejador</td>\n",
       "      <td>(57) 3724-5403</td>\n",
       "      <td>1970-09-02</td>\n",
       "      <td>Ligeria do Descoberto</td>\n",
       "      <td>Alagoas</td>\n",
       "      <td>999.99</td>\n",
       "      <td>PF</td>\n",
       "    </tr>\n",
       "    <tr>\n",
       "      <th>233482</th>\n",
       "      <td>17195012700</td>\n",
       "      <td>Regina Melo</td>\n",
       "      <td>Especialista Identidade Frente</td>\n",
       "      <td>Mobilidade</td>\n",
       "      <td>Desenvolvedor</td>\n",
       "      <td>Implementação</td>\n",
       "      <td>1962-07-18</td>\n",
       "      <td>Martins do Sul</td>\n",
       "      <td>MS</td>\n",
       "      <td>999.99</td>\n",
       "      <td>PF</td>\n",
       "    </tr>\n",
       "    <tr>\n",
       "      <th>...</th>\n",
       "      <td>...</td>\n",
       "      <td>...</td>\n",
       "      <td>...</td>\n",
       "      <td>...</td>\n",
       "      <td>...</td>\n",
       "      <td>...</td>\n",
       "      <td>...</td>\n",
       "      <td>...</td>\n",
       "      <td>...</td>\n",
       "      <td>...</td>\n",
       "      <td>...</td>\n",
       "    </tr>\n",
       "    <tr>\n",
       "      <th>999989</th>\n",
       "      <td>NaN</td>\n",
       "      <td>NaN</td>\n",
       "      <td>NaN</td>\n",
       "      <td>NaN</td>\n",
       "      <td>NaN</td>\n",
       "      <td>NaN</td>\n",
       "      <td>NaT</td>\n",
       "      <td>NaN</td>\n",
       "      <td>NaN</td>\n",
       "      <td>NaN</td>\n",
       "      <td>NaN</td>\n",
       "    </tr>\n",
       "    <tr>\n",
       "      <th>999990</th>\n",
       "      <td>NaN</td>\n",
       "      <td>NaN</td>\n",
       "      <td>NaN</td>\n",
       "      <td>NaN</td>\n",
       "      <td>NaN</td>\n",
       "      <td>NaN</td>\n",
       "      <td>NaT</td>\n",
       "      <td>NaN</td>\n",
       "      <td>NaN</td>\n",
       "      <td>NaN</td>\n",
       "      <td>NaN</td>\n",
       "    </tr>\n",
       "    <tr>\n",
       "      <th>999992</th>\n",
       "      <td>NaN</td>\n",
       "      <td>NaN</td>\n",
       "      <td>NaN</td>\n",
       "      <td>NaN</td>\n",
       "      <td>NaN</td>\n",
       "      <td>NaN</td>\n",
       "      <td>NaT</td>\n",
       "      <td>NaN</td>\n",
       "      <td>NaN</td>\n",
       "      <td>NaN</td>\n",
       "      <td>NaN</td>\n",
       "    </tr>\n",
       "    <tr>\n",
       "      <th>999996</th>\n",
       "      <td>NaN</td>\n",
       "      <td>NaN</td>\n",
       "      <td>NaN</td>\n",
       "      <td>NaN</td>\n",
       "      <td>NaN</td>\n",
       "      <td>NaN</td>\n",
       "      <td>NaT</td>\n",
       "      <td>NaN</td>\n",
       "      <td>NaN</td>\n",
       "      <td>NaN</td>\n",
       "      <td>NaN</td>\n",
       "    </tr>\n",
       "    <tr>\n",
       "      <th>999997</th>\n",
       "      <td>NaN</td>\n",
       "      <td>NaN</td>\n",
       "      <td>NaN</td>\n",
       "      <td>NaN</td>\n",
       "      <td>NaN</td>\n",
       "      <td>NaN</td>\n",
       "      <td>NaT</td>\n",
       "      <td>NaN</td>\n",
       "      <td>NaN</td>\n",
       "      <td>NaN</td>\n",
       "      <td>NaN</td>\n",
       "    </tr>\n",
       "  </tbody>\n",
       "</table>\n",
       "<p>1000000 rows × 11 columns</p>\n",
       "</div>"
      ],
      "text/plain": [
       "           document                name                             job  \\\n",
       "968481  82190864755   Euvanderson Costa      Supervisor Branding Sênior   \n",
       "464764  18741688813  Sra. Rocio Martins  Especialista Mobilidade Sênior   \n",
       "280776  61454551445      Wandir Martins                             NaN   \n",
       "4807    58953147670       Valeria Souza         Gerente Paradigma Chefe   \n",
       "233482  17195012700         Regina Melo  Especialista Identidade Frente   \n",
       "...             ...                 ...                             ...   \n",
       "999989          NaN                 NaN                             NaN   \n",
       "999990          NaN                 NaN                             NaN   \n",
       "999992          NaN                 NaN                             NaN   \n",
       "999996          NaN                 NaN                             NaN   \n",
       "999997          NaN                 NaN                             NaN   \n",
       "\n",
       "             jobArea        jobType         phoneNumber  birthDate  \\\n",
       "968481      Branding  Desenvolvedor     (34) 63123-5050 1965-10-25   \n",
       "464764  Configuração     Supervisor      (45) 9143-5347 1985-06-06   \n",
       "280776    Otimização   Orquestrador  +55 (74) 2431-7486 1988-11-09   \n",
       "4807          Contas     Planejador      (57) 3724-5403 1970-09-02   \n",
       "233482    Mobilidade  Desenvolvedor       Implementação 1962-07-18   \n",
       "...              ...            ...                 ...        ...   \n",
       "999989           NaN            NaN                 NaN        NaT   \n",
       "999990           NaN            NaN                 NaN        NaT   \n",
       "999992           NaN            NaN                 NaN        NaT   \n",
       "999996           NaN            NaN                 NaN        NaT   \n",
       "999997           NaN            NaN                 NaN        NaT   \n",
       "\n",
       "                            city       state  totalSpent person_type  \n",
       "968481              Grande Kacia  Pernambuco     1000.00          PF  \n",
       "464764       Vania do Descoberto          PA     1000.00          PF  \n",
       "280776  Martins de Nossa Senhora          AL      999.99          PF  \n",
       "4807       Ligeria do Descoberto     Alagoas      999.99          PF  \n",
       "233482            Martins do Sul          MS      999.99          PF  \n",
       "...                          ...         ...         ...         ...  \n",
       "999989                       NaN         NaN         NaN         NaN  \n",
       "999990                       NaN         NaN         NaN         NaN  \n",
       "999992                       NaN         NaN         NaN         NaN  \n",
       "999996                       NaN         NaN         NaN         NaN  \n",
       "999997                       NaN         NaN         NaN         NaN  \n",
       "\n",
       "[1000000 rows x 11 columns]"
      ]
     },
     "execution_count": 76,
     "metadata": {},
     "output_type": "execute_result"
    }
   ],
   "source": [
    "spent_ordenado_df"
   ]
  },
  {
   "cell_type": "code",
   "execution_count": null,
   "metadata": {},
   "outputs": [],
   "source": []
  }
 ],
 "metadata": {
  "kernelspec": {
   "display_name": "Python 3",
   "language": "python",
   "name": "python3"
  },
  "language_info": {
   "codemirror_mode": {
    "name": "ipython",
    "version": 3
   },
   "file_extension": ".py",
   "mimetype": "text/x-python",
   "name": "python",
   "nbconvert_exporter": "python",
   "pygments_lexer": "ipython3",
   "version": "3.7.6"
  }
 },
 "nbformat": 4,
 "nbformat_minor": 4
}
